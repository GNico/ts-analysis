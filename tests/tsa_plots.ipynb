{
 "cells": [
  {
   "cell_type": "code",
   "execution_count": 1,
   "metadata": {
    "collapsed": false,
    "deletable": true,
    "editable": true
   },
   "outputs": [
    {
     "name": "stdout",
     "output_type": "stream",
     "text": [
      "Populating the interactive namespace from numpy and matplotlib\n"
     ]
    }
   ],
   "source": [
    "%matplotlib inline\n",
    "import matplotlib\n",
    "import matplotlib.pyplot as plt\n",
    "matplotlib.style.use('ggplot')\n",
    "%pylab inline\n",
    "pylab.rcParams['figure.figsize'] = (16, 8)\n",
    "import numpy as np\n",
    "import pandas as pd\n",
    "import json\n",
    "from scipy.stats import ks_2samp"
   ]
  },
  {
   "cell_type": "code",
   "execution_count": 2,
   "metadata": {
    "collapsed": false,
    "deletable": true,
    "editable": true
   },
   "outputs": [],
   "source": [
    "with open('data/data.json') as data_file:\n",
    "    data = json.load(data_file)"
   ]
  },
  {
   "cell_type": "code",
   "execution_count": 3,
   "metadata": {
    "collapsed": false,
    "deletable": true,
    "editable": true
   },
   "outputs": [
    {
     "name": "stderr",
     "output_type": "stream",
     "text": [
      "/usr/local/lib/python3.5/dist-packages/ipykernel/__main__.py:10: FutureWarning: \n",
      ".resample() is now a deferred operation\n",
      "You called replace(...) on this deferred object which materialized it into a series\n",
      "by implicitly taking the mean.  Use .resample(...).mean() instead\n"
     ]
    }
   ],
   "source": [
    "contexts = {}\n",
    "for context in data['aggregations']['group_by_context']['buckets']:\n",
    "    context_id = context['key']\n",
    "    contexts[context_id] = {}\n",
    "    for tag in context['group_by_tag']['buckets']:\n",
    "        tag_id = tag['key']\n",
    "        series = {}\n",
    "        for bucket_element in tag['group_by_date']['buckets']:\n",
    "            series[pd.to_datetime(bucket_element['key_as_string'])] = bucket_element['doc_count']\n",
    "        contexts[context_id][tag_id] = pd.Series(series).resample('30min').replace(np.nan, 0)"
   ]
  },
  {
   "cell_type": "code",
   "execution_count": 10,
   "metadata": {
    "collapsed": false,
    "deletable": true,
    "editable": true
   },
   "outputs": [
    {
     "data": {
      "text/plain": [
       "<matplotlib.axes._subplots.AxesSubplot at 0x7f9ce909e470>"
      ]
     },
     "execution_count": 10,
     "metadata": {},
     "output_type": "execute_result"
    },
    {
     "data": {
      "image/png": "[encoded data removed]",
      "text/plain": [
       "<matplotlib.figure.Figure at 0x7f9ce9239160>"
      ]
     },
     "metadata": {},
     "output_type": "display_data"
    }
   ],
   "source": [
    "# Agarro un contexto cualquiera, quedaron los ids internos en vez de los nombres de los contextos\n",
    "series_name='sa_Negativo'\n",
    "#print(contexts[18479].keys())\n",
    "series = contexts[18479][series_name][:13*48]\n",
    "series.plot(legend=True, label=series_name)"
   ]
  },
  {
   "cell_type": "code",
   "execution_count": 7,
   "metadata": {
    "collapsed": false,
    "deletable": true,
    "editable": true
   },
   "outputs": [
    {
     "name": "stdout",
     "output_type": "stream",
     "text": [
      "target i= 1\n",
      "target mean 23.5833333333\n",
      "stat= 0.125\n",
      "pvalue= 0.821984447161\n",
      "-----------------\n",
      "target i= 2\n",
      "target mean 22.75\n",
      "stat= 0.104166666667\n",
      "pvalue= 0.945549071445\n",
      "-----------------\n",
      "target i= 3\n",
      "target mean 21.9583333333\n",
      "stat= 0.0833333333333\n",
      "pvalue= 0.994503461755\n",
      "-----------------\n",
      "target i= 4\n",
      "target mean 15.0833333333\n",
      "stat= 0.375\n",
      "pvalue= 0.00157245630954\n",
      "Anomalia\n",
      "-----------------\n",
      "target i= 5\n",
      "target mean 12.6666666667\n",
      "stat= 0.208333333333\n",
      "pvalue= 0.219930663327\n",
      "-----------------\n",
      "target i= 6\n",
      "target mean 25.9791666667\n",
      "stat= 0.5\n",
      "pvalue= 6.05348220903e-06\n",
      "Anomalia\n",
      "-----------------\n",
      "target i= 7\n",
      "target mean 25.9375\n",
      "stat= 0.104166666667\n",
      "pvalue= 0.945549071445\n",
      "-----------------\n",
      "target i= 8\n",
      "target mean 27.4791666667\n",
      "stat= 0.0833333333333\n",
      "pvalue= 0.994503461755\n",
      "-----------------\n",
      "target i= 9\n",
      "target mean 1008.64583333\n",
      "stat= 0.916666666667\n",
      "pvalue= 5.63604781607e-19\n",
      "Anomalia\n",
      "-----------------\n",
      "target i= 10\n",
      "target mean 150.0625\n",
      "stat= 0.708333333333\n",
      "pvalue= 1.67746699704e-11\n",
      "Anomalia\n",
      "-----------------\n",
      "target i= 11\n",
      "target mean 34.4583333333\n",
      "stat= 0.8125\n",
      "pvalue= 5.33771437238e-15\n",
      "Anomalia\n",
      "-----------------\n"
     ]
    }
   ],
   "source": [
    "s = contexts[18479][series_name]\n",
    "window_size = 24*2\n",
    "\n",
    "for i in range(1, 12):\n",
    "    print(\"target i=\", i)\n",
    "    base = s[window_size*(i-1):window_size*i]\n",
    "    target = s[window_size*i:window_size*(i+1)]\n",
    "    print(\"target mean\", target.mean())\n",
    "    stat, pvalue = ks_2samp(base, target)\n",
    "    print(\"stat=\", stat)\n",
    "    print(\"pvalue=\", pvalue)\n",
    "    if stat >= 0.25 or pvalue < 0.01:\n",
    "        print(\"Anomalia\")\n",
    "    print(\"-----------------\")"
   ]
  }
 ],
 "metadata": {
  "kernelspec": {
   "display_name": "Python 3",
   "language": "python",
   "name": "python3"
  },
  "language_info": {
   "codemirror_mode": {
    "name": "ipython",
    "version": 3
   },
   "file_extension": ".py",
   "mimetype": "text/x-python",
   "name": "python",
   "nbconvert_exporter": "python",
   "pygments_lexer": "ipython3",
   "version": "3.5.2"
  }
 },
 "nbformat": 4,
 "nbformat_minor": 2
}
