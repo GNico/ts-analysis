{
 "cells": [
  {
   "cell_type": "code",
   "execution_count": 23,
   "metadata": {},
   "outputs": [
    {
     "ename": "SystemError",
     "evalue": "Parent module '' not loaded, cannot perform relative import",
     "output_type": "error",
     "traceback": [
      "\u001b[0;31m---------------------------------------------------------------------------\u001b[0m",
      "\u001b[0;31mSystemError\u001b[0m                               Traceback (most recent call last)",
      "\u001b[0;32m<ipython-input-23-80b1fb36a1e1>\u001b[0m in \u001b[0;36m<module>\u001b[0;34m()\u001b[0m\n\u001b[1;32m      7\u001b[0m \u001b[0;34m\u001b[0m\u001b[0m\n\u001b[1;32m      8\u001b[0m \u001b[0;34m\u001b[0m\u001b[0m\n\u001b[0;32m----> 9\u001b[0;31m \u001b[0;32mfrom\u001b[0m \u001b[0;34m.\u001b[0m \u001b[0;32mimport\u001b[0m \u001b[0mthermometr\u001b[0m\u001b[0;34m\u001b[0m\u001b[0m\n\u001b[0m",
      "\u001b[0;31mSystemError\u001b[0m: Parent module '' not loaded, cannot perform relative import"
     ]
    }
   ],
   "source": [
    "import numpy as np\n",
    "import pandas as pd\n",
    "from scipy import stats\n",
    "from stldecompose import decompose, forecast\n",
    "from statsmodels.tsa.seasonal import seasonal_decompose\n",
    "import ciso8601\n",
    "\n",
    "\n",
    "from . import thermometr\n"
   ]
  },
  {
   "cell_type": "code",
   "execution_count": null,
   "metadata": {},
   "outputs": [],
   "source": [
    "client = Elasticsearch()\n",
    "\n",
    "query = {\n",
    "    \"query\": {\n",
    "        'bool': {\n",
    "            'filter': [{\n",
    "                'range': {\n",
    "                    '@timestamp': {\n",
    "                        'gte': '2018-07-11T03:00:00.000Z', \n",
    "                        'lte': '2018-08-17T03:00:00.000Z'}\n",
    "                    }\n",
    "                }]\n",
    "            }\n",
    "        }, \n",
    "        'aggs': {\n",
    "            'my_aggregation': {\n",
    "                'date_histogram': {\n",
    "                    'interval': '1H', \n",
    "                    'field': '@timestamp'\n",
    "                }\n",
    "        }\n",
    "    }\n",
    "}\n",
    "\n",
    "response = client.search(\n",
    "    index=\"ts-movi*\",\n",
    "    size=0,\n",
    "    body=query)\n",
    "\n",
    "print(\"Query time: \", response['took'])"
   ]
  },
  {
   "cell_type": "code",
   "execution_count": null,
   "metadata": {},
   "outputs": [],
   "source": [
    "jsondata= []\n",
    "for element in response['aggregations']['my_aggregation']['buckets']:\n",
    "    jsondata.append([element['key'], element['doc_count']])\n",
    "        \n",
    "dates, count = zip(*jsondata)\n",
    "s = pd.Series(count, index=dates)\n",
    "\n",
    "s.head(20)"
   ]
  },
  {
   "cell_type": "code",
   "execution_count": null,
   "metadata": {},
   "outputs": [],
   "source": [
    "dates = []\n",
    "count = []\n",
    "for element in response['aggregations']['my_aggregation']['buckets']:\n",
    "    dates.append(pd.to_datetime(element['key_as_string']))\n",
    "    count.append(element['doc_count'])\n",
    "    \n",
    "ts = pd.Series(count, index=dates)\n",
    "ts.head(20)"
   ]
  },
  {
   "cell_type": "code",
   "execution_count": null,
   "metadata": {},
   "outputs": [],
   "source": [
    "stl = decompose(ts, period=336)\n",
    "stl.seasonal.head(336)"
   ]
  }
 ],
 "metadata": {
  "kernelspec": {
   "display_name": "Python 3",
   "language": "python",
   "name": "python3"
  },
  "language_info": {
   "codemirror_mode": {
    "name": "ipython",
    "version": 3
   },
   "file_extension": ".py",
   "mimetype": "text/x-python",
   "name": "python",
   "nbconvert_exporter": "python",
   "pygments_lexer": "ipython3",
   "version": "3.5.2"
  }
 },
 "nbformat": 4,
 "nbformat_minor": 2
}
