{
 "cells": [
  {
   "cell_type": "code",
   "execution_count": 9,
   "metadata": {},
   "outputs": [],
   "source": [
    "from elastic_helper import EsHelper\n",
    "from elasticsearch import ElasticsearchException\n",
    "from elasticsearch import Elasticsearch\n",
    "    \n",
    "import json\n",
    "import time"
   ]
  },
  {
   "cell_type": "code",
   "execution_count": 10,
   "metadata": {
    "scrolled": false
   },
   "outputs": [],
   "source": [
    "es = EsHelper()\n"
   ]
  },
  {
   "cell_type": "code",
   "execution_count": 11,
   "metadata": {},
   "outputs": [],
   "source": [
    "es.addNewClient(clientname='randomclien', \n",
    "                indexname='randomcliente', \n",
    "                docspath='/home/nico/Git/ts-analysis/tests/data/randomclient')\n",
    "\n",
    "time.sleep(2)"
   ]
  },
  {
   "cell_type": "code",
   "execution_count": 18,
   "metadata": {},
   "outputs": [
    {
     "name": "stdout",
     "output_type": "stream",
     "text": [
      "[{'context': '', 'count': '0', 'name': '', 'start': '', 'end': ''}, {'context': '', 'count': '0', 'name': '', 'start': '', 'end': ''}, {'context': '', 'count': '0', 'name': '', 'start': '', 'end': ''}]\n"
     ]
    }
   ],
   "source": [
    "print(es.getClients())"
   ]
  },
  {
   "cell_type": "code",
   "execution_count": 13,
   "metadata": {
    "scrolled": true
   },
   "outputs": [
    {
     "data": {
      "text/plain": [
       "[]"
      ]
     },
     "execution_count": 13,
     "metadata": {},
     "output_type": "execute_result"
    }
   ],
   "source": [
    "es.getTags('randomclien')\n"
   ]
  },
  {
   "cell_type": "code",
   "execution_count": 14,
   "metadata": {},
   "outputs": [
    {
     "data": {
      "text/plain": [
       "['FravegaFBComment',\n",
       " 'twitter',\n",
       " 'instagramComment',\n",
       " 'FravegaFBPost',\n",
       " 'instagramMedia']"
      ]
     },
     "execution_count": 14,
     "metadata": {},
     "output_type": "execute_result"
    }
   ],
   "source": [
    "es.getContexts('randomclien')\n"
   ]
  },
  {
   "cell_type": "code",
   "execution_count": 15,
   "metadata": {
    "scrolled": true
   },
   "outputs": [
    {
     "data": {
      "text/plain": [
       "[[1506826800000, 204],\n",
       " [1506830400000, 159],\n",
       " [1506834000000, 75],\n",
       " [1506837600000, 35],\n",
       " [1506841200000, 27],\n",
       " [1506844800000, 6],\n",
       " [1506848400000, 13],\n",
       " [1506852000000, 46],\n",
       " [1506855600000, 77],\n",
       " [1506859200000, 219],\n",
       " [1506862800000, 202],\n",
       " [1506866400000, 218],\n",
       " [1506870000000, 260],\n",
       " [1506873600000, 212],\n",
       " [1506877200000, 198],\n",
       " [1506880800000, 182],\n",
       " [1506884400000, 165],\n",
       " [1506888000000, 136],\n",
       " [1506891600000, 176],\n",
       " [1506895200000, 186],\n",
       " [1506898800000, 203],\n",
       " [1506902400000, 260],\n",
       " [1506906000000, 273],\n",
       " [1506909600000, 186],\n",
       " [1506913200000, 230],\n",
       " [1506916800000, 145],\n",
       " [1506920400000, 64],\n",
       " [1506924000000, 25],\n",
       " [1506927600000, 21],\n",
       " [1506931200000, 13],\n",
       " [1506934800000, 62],\n",
       " [1506938400000, 132],\n",
       " [1506942000000, 197],\n",
       " [1506945600000, 242],\n",
       " [1506949200000, 244],\n",
       " [1506952800000, 224],\n",
       " [1506956400000, 199],\n",
       " [1506960000000, 269],\n",
       " [1506963600000, 130],\n",
       " [1506967200000, 102],\n",
       " [1506970800000, 86],\n",
       " [1506974400000, 87],\n",
       " [1506978000000, 103],\n",
       " [1506981600000, 50],\n",
       " [1506985200000, 45],\n",
       " [1506988800000, 30],\n",
       " [1506992400000, 44],\n",
       " [1506996000000, 41]]"
      ]
     },
     "execution_count": 15,
     "metadata": {},
     "output_type": "execute_result"
    }
   ],
   "source": [
    "t = []\n",
    "\n",
    "es.getSeries(clientname='randomclien', tags=t)"
   ]
  },
  {
   "cell_type": "code",
   "execution_count": 17,
   "metadata": {},
   "outputs": [],
   "source": [
    "\n",
    "\n",
    "es.deleteClient('randomclien')\n"
   ]
  }
 ],
 "metadata": {
  "kernelspec": {
   "display_name": "Python 3",
   "language": "python",
   "name": "python3"
  },
  "language_info": {
   "codemirror_mode": {
    "name": "ipython",
    "version": 3
   },
   "file_extension": ".py",
   "mimetype": "text/x-python",
   "name": "python",
   "nbconvert_exporter": "python",
   "pygments_lexer": "ipython3",
   "version": "3.5.2"
  }
 },
 "nbformat": 4,
 "nbformat_minor": 2
}
