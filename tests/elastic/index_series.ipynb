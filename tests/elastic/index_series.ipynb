{
 "cells": [
  {
   "cell_type": "code",
   "execution_count": 7,
   "metadata": {},
   "outputs": [],
   "source": [
    "from elasticsearch import Elasticsearch\n",
    "from elasticsearch.helpers import bulk\n",
    "from elasticsearch.client import IngestClient\n",
    "import os\n",
    "import json"
   ]
  },
  {
   "cell_type": "code",
   "execution_count": 8,
   "metadata": {},
   "outputs": [],
   "source": [
    "client = Elasticsearch()\n"
   ]
  },
  {
   "cell_type": "code",
   "execution_count": 9,
   "metadata": {},
   "outputs": [],
   "source": [
    "def make_documents(data, index_name):\n",
    "    for event in data:\n",
    "        doc = {\n",
    "                '_index': index_name,\n",
    "                '_type': 'document',\n",
    "                '_id': event['_id'],\n",
    "                'pipeline': 'testpipeline',\n",
    "                '_source': {'id': event['_id'], \n",
    "                            '@timestamp': event['source']['date'], \n",
    "                            'tag': event['source']['tags'],\n",
    "                            'context': event['source']['context']\n",
    "                           }\n",
    "        }\n",
    "        yield(doc) "
   ]
  },
  {
   "cell_type": "code",
   "execution_count": 10,
   "metadata": {
    "scrolled": true
   },
   "outputs": [
    {
     "data": {
      "text/plain": [
       "{'acknowledged': True}"
      ]
     },
     "execution_count": 10,
     "metadata": {},
     "output_type": "execute_result"
    }
   ],
   "source": [
    "index_name = 'testdata'\n",
    "\n",
    "ic = IngestClient(client)\n",
    "pipeline_id = 'testpipeline'\n",
    "pipeline_body = {\n",
    "              \"description\": \"hourly date-time index naming\",\n",
    "              \"processors\" : [\n",
    "                {\n",
    "                  \"date_index_name\" : {\n",
    "                    \"field\" : \"@timestamp\",\n",
    "                    \"index_name_prefix\" : index_name + \"-\",\n",
    "                    \"date_rounding\" : \"w\",\n",
    "                  }\n",
    "                }\n",
    "              ]\n",
    "}\n",
    "ic.put_pipeline(id=pipeline_id, body=pipeline_body)\n",
    "\n"
   ]
  },
  {
   "cell_type": "code",
   "execution_count": 11,
   "metadata": {},
   "outputs": [
    {
     "data": {
      "text/plain": [
       "{'testpipeline': {'description': 'hourly date-time index naming',\n",
       "  'processors': [{'date_index_name': {'date_rounding': 'w',\n",
       "     'field': '@timestamp',\n",
       "     'index_name_prefix': 'testdata-'}}]}}"
      ]
     },
     "execution_count": 11,
     "metadata": {},
     "output_type": "execute_result"
    }
   ],
   "source": [
    "ic.get_pipeline(id='testpipeline')\n",
    "\n"
   ]
  },
  {
   "cell_type": "code",
   "execution_count": 12,
   "metadata": {},
   "outputs": [
    {
     "name": "stdout",
     "output_type": "stream",
     "text": [
      "(746, [])\n"
     ]
    }
   ],
   "source": [
    "destdir = './testdata'\n",
    "files = [ f for f in os.listdir(destdir) if os.path.isfile(os.path.join(destdir,f)) ]\n",
    "result = ''\n",
    "for filename in files:\n",
    "    with open(os.path.join(destdir,filename)) as f:\n",
    "        data = json.load(f)\n",
    "        result = bulk(client, make_documents(data, index_name))\n",
    "\n",
    "print(result)    \n",
    "#bulk(client, make_documents(data, index_name))"
   ]
  },
  {
   "cell_type": "code",
   "execution_count": null,
   "metadata": {},
   "outputs": [],
   "source": []
  }
 ],
 "metadata": {
  "kernelspec": {
   "display_name": "Python 3",
   "language": "python",
   "name": "python3"
  },
  "language_info": {
   "codemirror_mode": {
    "name": "ipython",
    "version": 3
   },
   "file_extension": ".py",
   "mimetype": "text/x-python",
   "name": "python",
   "nbconvert_exporter": "python",
   "pygments_lexer": "ipython3",
   "version": "3.5.2"
  }
 },
 "nbformat": 4,
 "nbformat_minor": 2
}
